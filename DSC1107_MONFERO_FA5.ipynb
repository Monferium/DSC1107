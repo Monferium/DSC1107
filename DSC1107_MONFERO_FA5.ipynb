{
 "cells": [
  {
   "cell_type": "markdown",
   "id": "85483b5c-2e6a-4838-bd27-a9f816962b17",
   "metadata": {},
   "source": [
    "# Classification via Logistic Regression\n",
    "\n",
    "<center><h2 style = \"color:gray\">Monfero, John Benedict</h2></center>\n",
    "<hr>"
   ]
  },
  {
   "cell_type": "markdown",
   "id": "84a6a605-9b0b-48cb-8984-969f5f52b623",
   "metadata": {},
   "source": [
    "<center><h3 style = \"color: teal\">Assessment Objective</h3></center>\n",
    "\n",
    "<h5 style = \"color: maroon\">The objective of this assessment is to develop an understanding of logistic regression and its application in binary classification tasks. You will implement logistic regression using the Titanic dataset, analyze model performance, and interpret the results. </h5>"
   ]
  },
  {
   "cell_type": "markdown",
   "id": "454005b0-88ed-440f-9180-1ca49045f97e",
   "metadata": {},
   "source": [
    "##### Import Libraries"
   ]
  },
  {
   "cell_type": "code",
   "execution_count": 1,
   "id": "190be1ca-d111-4daa-8b5d-7fcfd94acc9f",
   "metadata": {},
   "outputs": [],
   "source": [
    "import pandas as pd\n",
    "import seaborn as sns\n",
    "import numpy as np\n",
    "import matplotlib.pyplot as plt\n",
    "from sklearn.model_selection import train_test_split\n",
    "from sklearn.preprocessing import StandardScaler, LabelEncoder\n",
    "from sklearn.linear_model import LogisticRegression\n",
    "from sklearn.metrics import accuracy_score, classification_report, confusion_matrix"
   ]
  },
  {
   "cell_type": "markdown",
   "id": "25df9c66-6f57-4503-9457-8d949f55a50d",
   "metadata": {},
   "source": [
    "<center><h3 style = \"color: coral\">Data Preprocessing</h3></center><hr>"
   ]
  },
  {
   "cell_type": "code",
   "execution_count": 2,
   "id": "d9a4764a-374b-4001-8d19-6521e7629c38",
   "metadata": {},
   "outputs": [
    {
     "data": {
      "text/html": [
       "<div>\n",
       "<style scoped>\n",
       "    .dataframe tbody tr th:only-of-type {\n",
       "        vertical-align: middle;\n",
       "    }\n",
       "\n",
       "    .dataframe tbody tr th {\n",
       "        vertical-align: top;\n",
       "    }\n",
       "\n",
       "    .dataframe thead th {\n",
       "        text-align: right;\n",
       "    }\n",
       "</style>\n",
       "<table border=\"1\" class=\"dataframe\">\n",
       "  <thead>\n",
       "    <tr style=\"text-align: right;\">\n",
       "      <th></th>\n",
       "      <th>survived</th>\n",
       "      <th>pclass</th>\n",
       "      <th>sex</th>\n",
       "      <th>age</th>\n",
       "      <th>sibsp</th>\n",
       "      <th>parch</th>\n",
       "      <th>fare</th>\n",
       "      <th>embarked</th>\n",
       "      <th>class</th>\n",
       "      <th>who</th>\n",
       "      <th>adult_male</th>\n",
       "      <th>deck</th>\n",
       "      <th>embark_town</th>\n",
       "      <th>alive</th>\n",
       "      <th>alone</th>\n",
       "    </tr>\n",
       "  </thead>\n",
       "  <tbody>\n",
       "    <tr>\n",
       "      <th>0</th>\n",
       "      <td>0</td>\n",
       "      <td>3</td>\n",
       "      <td>male</td>\n",
       "      <td>22.0</td>\n",
       "      <td>1</td>\n",
       "      <td>0</td>\n",
       "      <td>7.2500</td>\n",
       "      <td>S</td>\n",
       "      <td>Third</td>\n",
       "      <td>man</td>\n",
       "      <td>True</td>\n",
       "      <td>NaN</td>\n",
       "      <td>Southampton</td>\n",
       "      <td>no</td>\n",
       "      <td>False</td>\n",
       "    </tr>\n",
       "    <tr>\n",
       "      <th>1</th>\n",
       "      <td>1</td>\n",
       "      <td>1</td>\n",
       "      <td>female</td>\n",
       "      <td>38.0</td>\n",
       "      <td>1</td>\n",
       "      <td>0</td>\n",
       "      <td>71.2833</td>\n",
       "      <td>C</td>\n",
       "      <td>First</td>\n",
       "      <td>woman</td>\n",
       "      <td>False</td>\n",
       "      <td>C</td>\n",
       "      <td>Cherbourg</td>\n",
       "      <td>yes</td>\n",
       "      <td>False</td>\n",
       "    </tr>\n",
       "    <tr>\n",
       "      <th>2</th>\n",
       "      <td>1</td>\n",
       "      <td>3</td>\n",
       "      <td>female</td>\n",
       "      <td>26.0</td>\n",
       "      <td>0</td>\n",
       "      <td>0</td>\n",
       "      <td>7.9250</td>\n",
       "      <td>S</td>\n",
       "      <td>Third</td>\n",
       "      <td>woman</td>\n",
       "      <td>False</td>\n",
       "      <td>NaN</td>\n",
       "      <td>Southampton</td>\n",
       "      <td>yes</td>\n",
       "      <td>True</td>\n",
       "    </tr>\n",
       "    <tr>\n",
       "      <th>3</th>\n",
       "      <td>1</td>\n",
       "      <td>1</td>\n",
       "      <td>female</td>\n",
       "      <td>35.0</td>\n",
       "      <td>1</td>\n",
       "      <td>0</td>\n",
       "      <td>53.1000</td>\n",
       "      <td>S</td>\n",
       "      <td>First</td>\n",
       "      <td>woman</td>\n",
       "      <td>False</td>\n",
       "      <td>C</td>\n",
       "      <td>Southampton</td>\n",
       "      <td>yes</td>\n",
       "      <td>False</td>\n",
       "    </tr>\n",
       "    <tr>\n",
       "      <th>4</th>\n",
       "      <td>0</td>\n",
       "      <td>3</td>\n",
       "      <td>male</td>\n",
       "      <td>35.0</td>\n",
       "      <td>0</td>\n",
       "      <td>0</td>\n",
       "      <td>8.0500</td>\n",
       "      <td>S</td>\n",
       "      <td>Third</td>\n",
       "      <td>man</td>\n",
       "      <td>True</td>\n",
       "      <td>NaN</td>\n",
       "      <td>Southampton</td>\n",
       "      <td>no</td>\n",
       "      <td>True</td>\n",
       "    </tr>\n",
       "  </tbody>\n",
       "</table>\n",
       "</div>"
      ],
      "text/plain": [
       "   survived  pclass     sex   age  sibsp  parch     fare embarked  class  \\\n",
       "0         0       3    male  22.0      1      0   7.2500        S  Third   \n",
       "1         1       1  female  38.0      1      0  71.2833        C  First   \n",
       "2         1       3  female  26.0      0      0   7.9250        S  Third   \n",
       "3         1       1  female  35.0      1      0  53.1000        S  First   \n",
       "4         0       3    male  35.0      0      0   8.0500        S  Third   \n",
       "\n",
       "     who  adult_male deck  embark_town alive  alone  \n",
       "0    man        True  NaN  Southampton    no  False  \n",
       "1  woman       False    C    Cherbourg   yes  False  \n",
       "2  woman       False  NaN  Southampton   yes   True  \n",
       "3  woman       False    C  Southampton   yes  False  \n",
       "4    man        True  NaN  Southampton    no   True  "
      ]
     },
     "execution_count": 2,
     "metadata": {},
     "output_type": "execute_result"
    }
   ],
   "source": [
    "# Load the Titanic dataset\n",
    "df = sns.load_dataset('titanic')\n",
    "\n",
    "# Display first few rows\n",
    "df.head()"
   ]
  },
  {
   "cell_type": "markdown",
   "id": "f4e3e1f0-9b48-4a35-9c68-85a364a9ec31",
   "metadata": {},
   "source": [
    "<center><h3 style = \"color: coral\">Exploratory Data Analysis</h3></center><hr>"
   ]
  },
  {
   "cell_type": "code",
   "execution_count": 3,
   "id": "0df1892b-c343-447d-a3db-c769e1d85dfb",
   "metadata": {},
   "outputs": [
    {
     "name": "stdout",
     "output_type": "stream",
     "text": [
      "<class 'pandas.core.frame.DataFrame'>\n",
      "RangeIndex: 891 entries, 0 to 890\n",
      "Data columns (total 15 columns):\n",
      " #   Column       Non-Null Count  Dtype   \n",
      "---  ------       --------------  -----   \n",
      " 0   survived     891 non-null    int64   \n",
      " 1   pclass       891 non-null    int64   \n",
      " 2   sex          891 non-null    object  \n",
      " 3   age          714 non-null    float64 \n",
      " 4   sibsp        891 non-null    int64   \n",
      " 5   parch        891 non-null    int64   \n",
      " 6   fare         891 non-null    float64 \n",
      " 7   embarked     889 non-null    object  \n",
      " 8   class        891 non-null    category\n",
      " 9   who          891 non-null    object  \n",
      " 10  adult_male   891 non-null    bool    \n",
      " 11  deck         203 non-null    category\n",
      " 12  embark_town  889 non-null    object  \n",
      " 13  alive        891 non-null    object  \n",
      " 14  alone        891 non-null    bool    \n",
      "dtypes: bool(2), category(2), float64(2), int64(4), object(5)\n",
      "memory usage: 80.7+ KB\n",
      "None\n",
      "         survived      pclass         age       sibsp       parch        fare\n",
      "count  891.000000  891.000000  714.000000  891.000000  891.000000  891.000000\n",
      "mean     0.383838    2.308642   29.699118    0.523008    0.381594   32.204208\n",
      "std      0.486592    0.836071   14.526497    1.102743    0.806057   49.693429\n",
      "min      0.000000    1.000000    0.420000    0.000000    0.000000    0.000000\n",
      "25%      0.000000    2.000000   20.125000    0.000000    0.000000    7.910400\n",
      "50%      0.000000    3.000000   28.000000    0.000000    0.000000   14.454200\n",
      "75%      1.000000    3.000000   38.000000    1.000000    0.000000   31.000000\n",
      "max      1.000000    3.000000   80.000000    8.000000    6.000000  512.329200\n",
      "survived         0\n",
      "pclass           0\n",
      "sex              0\n",
      "age            177\n",
      "sibsp            0\n",
      "parch            0\n",
      "fare             0\n",
      "embarked         2\n",
      "class            0\n",
      "who              0\n",
      "adult_male       0\n",
      "deck           688\n",
      "embark_town      2\n",
      "alive            0\n",
      "alone            0\n",
      "dtype: int64\n"
     ]
    },
    {
     "data": {
      "image/png": "[encoded data removed]",
      "text/plain": [
       "<Figure size 640x480 with 1 Axes>"
      ]
     },
     "metadata": {},
     "output_type": "display_data"
    }
   ],
   "source": [
    "# Check dataset info\n",
    "print(df.info())\n",
    "\n",
    "# Summary statistics\n",
    "print(df.describe())\n",
    "\n",
    "# Count missing values\n",
    "print(df.isnull().sum())\n",
    "\n",
    "# Visualize missing data\n",
    "sns.heatmap(df.isnull(), cbar=False, cmap='viridis')\n",
    "plt.title(\"Missing Data Heatmap\")\n",
    "plt.show()"
   ]
  },
  {
   "cell_type": "markdown",
   "id": "dae5ddc9-e510-4c9c-a7f0-294edcd10af0",
   "metadata": {},
   "source": [
    "<center><h3 style = \"color: coral\">Handling Missing Values</h3></center><hr>"
   ]
  },
  {
   "cell_type": "code",
   "execution_count": 4,
   "id": "0be85002-d052-47b2-a5a4-36b755e9a9ff",
   "metadata": {},
   "outputs": [],
   "source": [
    "# Drop columns with too many missing values or irrelevant for prediction\n",
    "df = df.drop(columns=['deck', 'embark_town', 'alive'])\n",
    "\n",
    "# Drop rows with missing 'embarked' values\n",
    "df = df.dropna(subset=['embarked'])\n",
    "\n",
    "# Fill missing age with median\n",
    "df['age'] = df['age'].fillna(df['age'].median())\n",
    "\n",
    "# Drop any remaining rows with missing values (e.g., 'embarked', 'fare')\n",
    "df = df.dropna()"
   ]
  },
  {
   "cell_type": "markdown",
   "id": "c4c85522-4abf-4831-b973-3614b8ef4298",
   "metadata": {},
   "source": [
    "<center><h3 style = \"color: coral\">Encoding Categorical Variables</h3></center><hr>"
   ]
  },
  {
   "cell_type": "code",
   "execution_count": 5,
   "id": "8dc1c5ad-3a6a-4184-a32d-c3c2044d9a01",
   "metadata": {},
   "outputs": [],
   "source": [
    "# Convert 'sex' and 'embarked' into numeric using Label Encoding\n",
    "le = LabelEncoder()\n",
    "df['sex'] = le.fit_transform(df['sex'])       # male=1, female=0\n",
    "df['embarked'] = le.fit_transform(df['embarked'])  # C=0, Q=1, S=2"
   ]
  },
  {
   "cell_type": "markdown",
   "id": "f87526a1-6c73-47cf-836c-541c5676f795",
   "metadata": {},
   "source": [
    "<center><h3 style = \"color: coral\">Feature Selection and Scaling</h3></center><hr>"
   ]
  },
  {
   "cell_type": "code",
   "execution_count": 6,
   "id": "4c7db18f-0c37-4015-a919-647bda932933",
   "metadata": {},
   "outputs": [],
   "source": [
    "# Select relevant features\n",
    "features = ['pclass', 'sex', 'age', 'sibsp', 'parch', 'fare', 'embarked']\n",
    "X = df[features]\n",
    "y = df['survived']\n",
    "\n",
    "# Standardize numerical features\n",
    "scaler = StandardScaler()\n",
    "X_scaled = scaler.fit_transform(X)"
   ]
  },
  {
   "cell_type": "markdown",
   "id": "935f9872-4270-4ee9-ac7c-e05b80a9e69e",
   "metadata": {},
   "source": [
    "<center><h3 style = \"color: coral\">Train-Test Split</h3></center><hr>"
   ]
  },
  {
   "cell_type": "code",
   "execution_count": 7,
   "id": "ed743e92-7b1d-4a62-a096-475e996afcf9",
   "metadata": {},
   "outputs": [],
   "source": [
    "# Split into train and test sets (80-20)\n",
    "X_train, X_test, y_train, y_test = train_test_split(\n",
    "    X_scaled, y, test_size=0.2, random_state=42\n",
    ")"
   ]
  },
  {
   "cell_type": "markdown",
   "id": "8821dd3a-c32d-4e42-8bf3-2613fd8a331a",
   "metadata": {},
   "source": [
    "<center><h3 style = \"color: coral\">Logistic Regression Model</h3></center><hr>"
   ]
  },
  {
   "cell_type": "code",
   "execution_count": 8,
   "id": "056e1448-a83e-49e1-990e-2ef0ab764a1b",
   "metadata": {},
   "outputs": [],
   "source": [
    "# Initialize and train the model\n",
    "model = LogisticRegression()\n",
    "model.fit(X_train, y_train)\n",
    "\n",
    "# Predict on test set\n",
    "y_pred = model.predict(X_test)"
   ]
  },
  {
   "cell_type": "markdown",
   "id": "97e9b645-4633-4f28-8096-4abc8cfe5eda",
   "metadata": {},
   "source": [
    "<center><h3 style = \"color: coral\">Evaluation</h3></center><hr>"
   ]
  },
  {
   "cell_type": "code",
   "execution_count": 9,
   "id": "a56a1a42-60b5-41c0-9f41-e4b989634828",
   "metadata": {},
   "outputs": [
    {
     "name": "stdout",
     "output_type": "stream",
     "text": [
      "Accuracy: 0.7696629213483146\n",
      "Classification Report:\n",
      "               precision    recall  f1-score   support\n",
      "\n",
      "           0       0.84      0.77      0.80       109\n",
      "           1       0.68      0.77      0.72        69\n",
      "\n",
      "    accuracy                           0.77       178\n",
      "   macro avg       0.76      0.77      0.76       178\n",
      "weighted avg       0.78      0.77      0.77       178\n",
      "\n"
     ]
    },
    {
     "data": {
      "image/png": "[encoded data removed]",
      "text/plain": [
       "<Figure size 640x480 with 2 Axes>"
      ]
     },
     "metadata": {},
     "output_type": "display_data"
    }
   ],
   "source": [
    "# Accuracy and classification report\n",
    "print(\"Accuracy:\", accuracy_score(y_test, y_pred))\n",
    "print(\"Classification Report:\\n\", classification_report(y_test, y_pred))\n",
    "\n",
    "# Confusion matrix\n",
    "sns.heatmap(confusion_matrix(y_test, y_pred), annot=True, fmt='d', cmap='Blues')\n",
    "plt.title(\"Confusion Matrix\")\n",
    "plt.xlabel(\"Predicted\")\n",
    "plt.ylabel(\"Actual\")\n",
    "plt.show()"
   ]
  },
  {
   "cell_type": "code",
   "execution_count": 10,
   "id": "f6569c05-8245-4cb2-b7b6-d8f2510a8536",
   "metadata": {},
   "outputs": [
    {
     "name": "stdout",
     "output_type": "stream",
     "text": [
      "Accuracy:  0.77\n",
      "Precision: 0.68\n",
      "Recall:    0.77\n",
      "F1-score:  0.72\n"
     ]
    }
   ],
   "source": [
    "from sklearn.metrics import precision_score, recall_score, f1_score, roc_auc_score, roc_curve\n",
    "\n",
    "# Print evaluation metrics\n",
    "accuracy = accuracy_score(y_test, y_pred)\n",
    "precision = precision_score(y_test, y_pred)\n",
    "recall = recall_score(y_test, y_pred)\n",
    "f1 = f1_score(y_test, y_pred)\n",
    "\n",
    "print(f\"Accuracy:  {accuracy:.2f}\")\n",
    "print(f\"Precision: {precision:.2f}\")\n",
    "print(f\"Recall:    {recall:.2f}\")\n",
    "print(f\"F1-score:  {f1:.2f}\")"
   ]
  },
  {
   "cell_type": "markdown",
   "id": "60fa97fc-73b6-4bc4-99fa-447ca81dfe2e",
   "metadata": {},
   "source": [
    "<center><h3 style = \"color: coral\">ROC Curve and AUC Score</h3></center><hr>"
   ]
  },
  {
   "cell_type": "code",
   "execution_count": 11,
   "id": "86176e67-1aa7-4e20-a823-7685b5c020d6",
   "metadata": {},
   "outputs": [
    {
     "data": {
      "image/png": "[encoded data removed]",
      "text/plain": [
       "<Figure size 600x400 with 1 Axes>"
      ]
     },
     "metadata": {},
     "output_type": "display_data"
    }
   ],
   "source": [
    "# Predict probabilities for ROC\n",
    "y_prob = model.predict_proba(X_test)[:, 1]\n",
    "\n",
    "# Compute ROC curve and AUC\n",
    "fpr, tpr, thresholds = roc_curve(y_test, y_prob)\n",
    "auc_score = roc_auc_score(y_test, y_prob)\n",
    "\n",
    "# Plot ROC curve\n",
    "plt.figure(figsize=(6, 4))\n",
    "plt.plot(fpr, tpr, label=f\"ROC Curve (AUC = {auc_score:.2f})\")\n",
    "plt.plot([0, 1], [0, 1], 'k--')  # Random line\n",
    "plt.xlabel(\"False Positive Rate\")\n",
    "plt.ylabel(\"True Positive Rate\")\n",
    "plt.title(\"ROC Curve\")\n",
    "plt.legend(loc=\"lower right\")\n",
    "plt.grid()\n",
    "plt.show()"
   ]
  },
  {
   "cell_type": "markdown",
   "id": "fe5d858c-59af-4890-9467-5f75aaa503fe",
   "metadata": {},
   "source": [
    "<center><h3 style = \"color: coral\">Results Interpretation & Discussion</h3></center><hr>\n",
    "\n",
    "📌 **Interpretation:**\n",
    "\n",
    "> **Accuracy** indicates that around 77% of predictions are correct.\n",
    "\n",
    "> **Precision** tells us that 68% of the predicted survivors were actually survivors (True Positives).\n",
    "\n",
    "> **Recall** which has value of 77% reflects how well the model identifies actual survivors.\n",
    "\n",
    "> **F1-Score** balances precision and recall — useful for imbalanced classes if there is.\n",
    "\n",
    "> **AUC Score** which is 85% in the given model, indicates how well the model separates the classes; values closer to 100% mean better performance.\n",
    "\n",
    "📌 **Discussion:**\n",
    "> As we implement the logistic regression, we are able analyze the dataset `Titanic` and we address how certain features of one person could influence its binary classification results, which is that person a survivor or not a survivor. However, the model does predict better only if its robust enough by maximizing the Accuracy, and Precision, one way is to reduce the complexicity of the model by ranking which features shall consider before making the Logistic Regressions"
   ]
  },
  {
   "cell_type": "markdown",
   "id": "4af8785d-4263-460e-9ae5-81725a3889a5",
   "metadata": {},
   "source": [
    "<center><h3 style = \"color: coral\">Feature Importance</h3></center><hr>"
   ]
  },
  {
   "cell_type": "code",
   "execution_count": 20,
   "id": "be7ddcc9-2b93-4a3c-aa7e-547ec110f58d",
   "metadata": {},
   "outputs": [
    {
     "name": "stdout",
     "output_type": "stream",
     "text": [
      "    Feature  Importance\n",
      "1       sex   -1.310774\n",
      "0    pclass   -0.939762\n",
      "2       age   -0.560860\n",
      "3     sibsp   -0.418895\n",
      "6  embarked   -0.214888\n",
      "5      fare    0.079597\n",
      "4     parch   -0.058197\n"
     ]
    }
   ],
   "source": [
    "importance = model.coef_[0]\n",
    "feature_importance = pd.DataFrame({\n",
    "    'Feature': features,\n",
    "    'Importance': importance\n",
    "}).sort_values(by='Importance', key=abs, ascending=False)\n",
    "\n",
    "print(feature_importance)"
   ]
  },
  {
   "cell_type": "markdown",
   "id": "5cea9c2c-b53c-4ac2-a4a8-b39356f4adb7",
   "metadata": {},
   "source": [
    "<center><h3 style = \"color: coral\">Conclusion and Implications</h3></center><hr>"
   ]
  },
  {
   "cell_type": "markdown",
   "id": "6895a359-f42e-4d86-b9f3-f3e05a46268b",
   "metadata": {},
   "source": [
    "##### Based on the Feature Important and Logistic Regression Analysis made\n",
    "\n",
    "> Features like sex (gender) and fare are strong indicators of survival.\n",
    ">\n",
    "> Women had a significantly higher chance of survival (positive coefficient for `sex=0` = female).\n",
    ">\n",
    "> Higher-class passengers (lower `pclass`) were more likely to survive.\n",
    ">\n",
    "> This aligns with real Titanic survival policies: \"women and children first,\" and class-based evacuation.\n",
    "\n"
   ]
  }
 ],
 "metadata": {
  "kernelspec": {
   "display_name": "Python 3 (ipykernel)",
   "language": "python",
   "name": "python3"
  },
  "language_info": {
   "codemirror_mode": {
    "name": "ipython",
    "version": 3
   },
   "file_extension": ".py",
   "mimetype": "text/x-python",
   "name": "python",
   "nbconvert_exporter": "python",
   "pygments_lexer": "ipython3",
   "version": "3.11.7"
  }
 },
 "nbformat": 4,
 "nbformat_minor": 5
}
