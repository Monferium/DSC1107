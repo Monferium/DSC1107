{
 "cells": [
  {
   "cell_type": "markdown",
   "id": "047b69a0-ea70-41e1-b07d-3891a3c079b8",
   "metadata": {},
   "source": [
    "# APM1137 - Intepolating Polynomials\n",
    "## Formative Assessment 2: Natural Cubic Splines and Clamp Cubic Splines"
   ]
  },
  {
   "cell_type": "code",
   "execution_count": 1,
   "id": "802cb217-873c-486d-98d0-480164f4d8fe",
   "metadata": {},
   "outputs": [],
   "source": [
    "import numpy as np\n",
    "import pandas as pd\n",
    "from scipy.interpolate import CubicSpline"
   ]
  },
  {
   "cell_type": "markdown",
   "id": "899817f8-8077-4b19-8fea-b52090b505a5",
   "metadata": {},
   "source": [
    "<h5 style=\"color:steelblue\"><center>Given $f(x)= x \\cos(x) - 2x^2 + 3x - 1$</center></h5>"
   ]
  },
  {
   "cell_type": "code",
   "execution_count": 2,
   "id": "dcdeeae8-12ac-42ba-a590-4f57a3d4c1ab",
   "metadata": {},
   "outputs": [
    {
     "data": {
      "text/html": [
       "<div>\n",
       "<style scoped>\n",
       "    .dataframe tbody tr th:only-of-type {\n",
       "        vertical-align: middle;\n",
       "    }\n",
       "\n",
       "    .dataframe tbody tr th {\n",
       "        vertical-align: top;\n",
       "    }\n",
       "\n",
       "    .dataframe thead th {\n",
       "        text-align: right;\n",
       "    }\n",
       "</style>\n",
       "<table border=\"1\" class=\"dataframe\">\n",
       "  <thead>\n",
       "    <tr style=\"text-align: right;\">\n",
       "      <th></th>\n",
       "      <th>x_i</th>\n",
       "      <th>f(x_i)</th>\n",
       "      <th>f'(x_i)</th>\n",
       "    </tr>\n",
       "  </thead>\n",
       "  <tbody>\n",
       "    <tr>\n",
       "      <th>0</th>\n",
       "      <td>0.1</td>\n",
       "      <td>-0.620500</td>\n",
       "      <td>3.585021</td>\n",
       "    </tr>\n",
       "    <tr>\n",
       "      <th>1</th>\n",
       "      <td>0.2</td>\n",
       "      <td>-0.283987</td>\n",
       "      <td>3.140333</td>\n",
       "    </tr>\n",
       "    <tr>\n",
       "      <th>2</th>\n",
       "      <td>0.3</td>\n",
       "      <td>0.006601</td>\n",
       "      <td>2.666680</td>\n",
       "    </tr>\n",
       "    <tr>\n",
       "      <th>3</th>\n",
       "      <td>0.4</td>\n",
       "      <td>0.248424</td>\n",
       "      <td>2.165294</td>\n",
       "    </tr>\n",
       "  </tbody>\n",
       "</table>\n",
       "</div>"
      ],
      "text/plain": [
       "   x_i    f(x_i)   f'(x_i)\n",
       "0  0.1 -0.620500  3.585021\n",
       "1  0.2 -0.283987  3.140333\n",
       "2  0.3  0.006601  2.666680\n",
       "3  0.4  0.248424  2.165294"
      ]
     },
     "execution_count": 2,
     "metadata": {},
     "output_type": "execute_result"
    }
   ],
   "source": [
    "# Define the function f(x) and its derivative f_prime(x)\n",
    "def f(x):\n",
    "    return x * np.cos(x) - 2 * x**2 + 3 * x - 1\n",
    "\n",
    "def f_prime(x):\n",
    "    return (np.cos(x) - x * np.sin(x)) - 4 * x + 3\n",
    "\n",
    "# Given tabular data\n",
    "x_i = np.array([0.1, 0.2, 0.3, 0.4])\n",
    "y_i = np.array([f(x) for x in x_i])\n",
    "y_prime_i = np.array([f_prime(x) for x in x_i])\n",
    "\n",
    "# Create a DataFrame\n",
    "df = pd.DataFrame({\"x_i\": x_i, \"f(x_i)\": y_i, \"f'(x_i)\": y_prime_i})\n",
    "df"
   ]
  },
  {
   "cell_type": "markdown",
   "id": "2d105023-6f28-416e-a684-d394c654b7aa",
   "metadata": {},
   "source": [
    "<h5 style=\"color:maroon\">Below here is the sample construction to perform any natural cubic spline when $x_i \\in \\{0.1, 0.2, 0.3, 0.4\\}$ whenever $f(x_i) = x \\cos(x) - 2x^2 + 3x - 1$</h5>"
   ]
  },
  {
   "cell_type": "code",
   "execution_count": 3,
   "id": "193964f2-dd79-4082-a587-e9bb501ecefc",
   "metadata": {},
   "outputs": [],
   "source": [
    "# Construct the natural cubic spline\n",
    "spline = CubicSpline(x_i, y_i, bc_type='natural') #can be changed as bc_type = 'clamped'\n",
    "\n",
    "# Extract spline coefficients for each interval\n",
    "spline_coeffs = np.vstack([spline.c[-1], spline.c[-2], spline.c[-3], spline.c[-4]]).T\n",
    "\n",
    "# Create a DataFrame to display the coefficients for each interval\n",
    "spline_df = pd.DataFrame(\n",
    "    spline_coeffs,\n",
    "    columns=[\"a (constant)\", \"b (linear)\", \"c (quadratic)\", \"d (cubic)\"],\n",
    "    index=[f\"[{x_i[i]}, {x_i[i+1]}]\" for i in range(len(x_i)-1)]\n",
    ")"
   ]
  },
  {
   "cell_type": "markdown",
   "id": "e6c10a94-061a-43e0-bb35-db68b1347a47",
   "metadata": {},
   "source": [
    "<h5 style=\"color:maroon\">Here is the sample output of the machine program made above</h5>"
   ]
  },
  {
   "cell_type": "code",
   "execution_count": 4,
   "id": "f175d193-1dbe-4b7d-8fb9-ebd861031488",
   "metadata": {},
   "outputs": [
    {
     "data": {
      "text/html": [
       "<div>\n",
       "<style scoped>\n",
       "    .dataframe tbody tr th:only-of-type {\n",
       "        vertical-align: middle;\n",
       "    }\n",
       "\n",
       "    .dataframe tbody tr th {\n",
       "        vertical-align: top;\n",
       "    }\n",
       "\n",
       "    .dataframe thead th {\n",
       "        text-align: right;\n",
       "    }\n",
       "</style>\n",
       "<table border=\"1\" class=\"dataframe\">\n",
       "  <thead>\n",
       "    <tr style=\"text-align: right;\">\n",
       "      <th></th>\n",
       "      <th>a (constant)</th>\n",
       "      <th>b (linear)</th>\n",
       "      <th>c (quadratic)</th>\n",
       "      <th>d (cubic)</th>\n",
       "    </tr>\n",
       "  </thead>\n",
       "  <tbody>\n",
       "    <tr>\n",
       "      <th>[0.1, 0.2]</th>\n",
       "      <td>-0.620500</td>\n",
       "      <td>3.455087</td>\n",
       "      <td>4.440892e-15</td>\n",
       "      <td>-8.995793</td>\n",
       "    </tr>\n",
       "    <tr>\n",
       "      <th>[0.2, 0.3]</th>\n",
       "      <td>-0.283987</td>\n",
       "      <td>3.185213</td>\n",
       "      <td>-2.698738e+00</td>\n",
       "      <td>-0.946304</td>\n",
       "    </tr>\n",
       "    <tr>\n",
       "      <th>[0.3, 0.4]</th>\n",
       "      <td>0.006601</td>\n",
       "      <td>2.617076</td>\n",
       "      <td>-2.982629e+00</td>\n",
       "      <td>9.942097</td>\n",
       "    </tr>\n",
       "  </tbody>\n",
       "</table>\n",
       "</div>"
      ],
      "text/plain": [
       "            a (constant)  b (linear)  c (quadratic)  d (cubic)\n",
       "[0.1, 0.2]     -0.620500    3.455087   4.440892e-15  -8.995793\n",
       "[0.2, 0.3]     -0.283987    3.185213  -2.698738e+00  -0.946304\n",
       "[0.3, 0.4]      0.006601    2.617076  -2.982629e+00   9.942097"
      ]
     },
     "execution_count": 4,
     "metadata": {},
     "output_type": "execute_result"
    }
   ],
   "source": [
    "spline_df"
   ]
  },
  {
   "cell_type": "markdown",
   "id": "b0613a27-c08c-456a-8273-f2887267bc56",
   "metadata": {},
   "source": [
    "<h5 style=\"color:coral\"><center>Construct the natural cubic spline and approximate $f(0.25)$ and $f^{(1)}(0.25)$ and find the absolute error from the given approximation</center></h5>"
   ]
  },
  {
   "cell_type": "markdown",
   "id": "277b73cc-34e1-4106-9381-3ee45b84d6c7",
   "metadata": {},
   "source": [
    "<h5 style=\"color:maroon\">Now, perform the interpolation when $f(0.25)$ and $f^{(1)}(0.25)$ through Natural Cubic Spline</h5>"
   ]
  },
  {
   "cell_type": "code",
   "execution_count": 5,
   "id": "a03e004e-ec0c-4b1b-a7ce-de7bcfa3edd2",
   "metadata": {},
   "outputs": [],
   "source": [
    "# True function and derivative values at x = 0.25\n",
    "f_true = f(0.25)\n",
    "f_prime_true = f_prime(0.25)\n",
    "\n",
    "# Interpolated values from the spline\n",
    "f_interp = spline(0.25)\n",
    "f_prime_interp = spline.derivative()(0.25)"
   ]
  },
  {
   "cell_type": "markdown",
   "id": "d17b8340-0de7-4214-bc71-35cab0eb2beb",
   "metadata": {},
   "source": [
    "<h5 style=\"color:maroon\">Determine the error made within the interpolation process above</h5>"
   ]
  },
  {
   "cell_type": "code",
   "execution_count": 6,
   "id": "13894629-3a83-4c73-a1ac-d36402466d3e",
   "metadata": {},
   "outputs": [],
   "source": [
    "# Compute absolute errors\n",
    "abs_error_f = np.abs(f_true - f_interp)\n",
    "abs_error_f_prime = np.abs(f_prime_true - f_prime_interp)"
   ]
  },
  {
   "cell_type": "markdown",
   "id": "3b08c5fe-25fe-4bf5-ae14-cd16c3ef1f83",
   "metadata": {},
   "source": [
    "<h5 style=\"color:maroon\">Compile overall results</h5>"
   ]
  },
  {
   "cell_type": "code",
   "execution_count": 7,
   "id": "ee43c927-3bde-4ce3-8530-32a03f9b8434",
   "metadata": {},
   "outputs": [],
   "source": [
    "# Create a DataFrame for the results\n",
    "final_results_df = pd.DataFrame({\n",
    "    \"True Value\": [f_true, f_prime_true],\n",
    "    \"Spline Approximation\": [f_interp, f_prime_interp],\n",
    "    \"Absolute Error\": [abs_error_f, abs_error_f_prime]\n",
    "}, index=[\"f(0.25)\", \"f'(0.25)\"])"
   ]
  },
  {
   "cell_type": "code",
   "execution_count": 8,
   "id": "c8887af5-ef35-4852-a979-95ba6609fccf",
   "metadata": {},
   "outputs": [
    {
     "data": {
      "text/html": [
       "<div>\n",
       "<style scoped>\n",
       "    .dataframe tbody tr th:only-of-type {\n",
       "        vertical-align: middle;\n",
       "    }\n",
       "\n",
       "    .dataframe tbody tr th {\n",
       "        vertical-align: top;\n",
       "    }\n",
       "\n",
       "    .dataframe thead th {\n",
       "        text-align: right;\n",
       "    }\n",
       "</style>\n",
       "<table border=\"1\" class=\"dataframe\">\n",
       "  <thead>\n",
       "    <tr style=\"text-align: right;\">\n",
       "      <th></th>\n",
       "      <th>True Value</th>\n",
       "      <th>Spline Approximation</th>\n",
       "      <th>Absolute Error</th>\n",
       "    </tr>\n",
       "  </thead>\n",
       "  <tbody>\n",
       "    <tr>\n",
       "      <th>f(0.25)</th>\n",
       "      <td>-0.132772</td>\n",
       "      <td>-0.1315911602337619</td>\n",
       "      <td>0.001181</td>\n",
       "    </tr>\n",
       "    <tr>\n",
       "      <th>f'(0.25)</th>\n",
       "      <td>2.907061</td>\n",
       "      <td>2.9082420720567908</td>\n",
       "      <td>0.001181</td>\n",
       "    </tr>\n",
       "  </tbody>\n",
       "</table>\n",
       "</div>"
      ],
      "text/plain": [
       "          True Value Spline Approximation  Absolute Error\n",
       "f(0.25)    -0.132772  -0.1315911602337619        0.001181\n",
       "f'(0.25)    2.907061   2.9082420720567908        0.001181"
      ]
     },
     "execution_count": 8,
     "metadata": {},
     "output_type": "execute_result"
    }
   ],
   "source": [
    "final_results_df"
   ]
  },
  {
   "cell_type": "markdown",
   "id": "221f1aa8-2945-46ff-b66a-13e141f7764e",
   "metadata": {},
   "source": [
    "<h5 style=\"color:maroon\">Below here is the sample construction to perform any clamped cubic spline when $x_i \\in \\{0.1, 0.2, 0.3, 0.4\\}$ whenever $f(x_i) = x \\cos(x) - 2x^2 + 3x - 1$</h5>"
   ]
  },
  {
   "cell_type": "code",
   "execution_count": 9,
   "id": "e36ff282-da43-4ce3-b525-60b461c1aecd",
   "metadata": {},
   "outputs": [],
   "source": [
    "# Construct the natural cubic spline\n",
    "spline = CubicSpline(x_i, y_i, bc_type='clamped') #can be changed as bc_type = 'natural'\n",
    "\n",
    "# Extract spline coefficients for each interval\n",
    "spline_coeffs = np.vstack([spline.c[-1], spline.c[-2], spline.c[-3], spline.c[-4]]).T\n",
    "\n",
    "# Create a DataFrame to display the coefficients for each interval\n",
    "spline_df = pd.DataFrame(\n",
    "    spline_coeffs,\n",
    "    columns=[\"a (constant)\", \"b (linear)\", \"c (quadratic)\", \"d (cubic)\"],\n",
    "    index=[f\"[{x_i[i]}, {x_i[i+1]}]\" for i in range(len(x_i)-1)]\n",
    ")"
   ]
  },
  {
   "cell_type": "markdown",
   "id": "9c7d4af4-351a-4b5b-875e-1a8324fe4a7c",
   "metadata": {},
   "source": [
    "<h5 style=\"color:coral\"><center>Construct the clamped cubic spline and approximate $f(0.25)$ and $f^{(1)}(0.25)$ and find the absolute error from the given approximation</center></h5>"
   ]
  },
  {
   "cell_type": "code",
   "execution_count": 10,
   "id": "8e5331ea-bcab-40bb-8336-ca8580cabbdc",
   "metadata": {},
   "outputs": [
    {
     "data": {
      "text/html": [
       "<div>\n",
       "<style scoped>\n",
       "    .dataframe tbody tr th:only-of-type {\n",
       "        vertical-align: middle;\n",
       "    }\n",
       "\n",
       "    .dataframe tbody tr th {\n",
       "        vertical-align: top;\n",
       "    }\n",
       "\n",
       "    .dataframe thead th {\n",
       "        text-align: right;\n",
       "    }\n",
       "</style>\n",
       "<table border=\"1\" class=\"dataframe\">\n",
       "  <thead>\n",
       "    <tr style=\"text-align: right;\">\n",
       "      <th></th>\n",
       "      <th>True Value</th>\n",
       "      <th>Clamped Spline Approximation</th>\n",
       "      <th>Absolute Error</th>\n",
       "    </tr>\n",
       "  </thead>\n",
       "  <tbody>\n",
       "    <tr>\n",
       "      <th>f(0.25)</th>\n",
       "      <td>-0.132772</td>\n",
       "      <td>-0.12685668782491324</td>\n",
       "      <td>0.005915</td>\n",
       "    </tr>\n",
       "    <tr>\n",
       "      <th>f'(0.25)</th>\n",
       "      <td>2.907061</td>\n",
       "      <td>2.619547049177323</td>\n",
       "      <td>0.287514</td>\n",
       "    </tr>\n",
       "  </tbody>\n",
       "</table>\n",
       "</div>"
      ],
      "text/plain": [
       "          True Value Clamped Spline Approximation  Absolute Error\n",
       "f(0.25)    -0.132772         -0.12685668782491324        0.005915\n",
       "f'(0.25)    2.907061            2.619547049177323        0.287514"
      ]
     },
     "execution_count": 10,
     "metadata": {},
     "output_type": "execute_result"
    }
   ],
   "source": [
    "# Define clamped boundary conditions using given derivatives at the endpoints\n",
    "bc_type_clamped = ((1, f_prime(x_i[0])), (1, f_prime(x_i[-1])))\n",
    "\n",
    "# Construct the clamped cubic spline\n",
    "clamped_spline = CubicSpline(x_i, y_i, bc_type='clamped')\n",
    "\n",
    "# Compute interpolated values at x = 0.25\n",
    "f_clamped_interp = clamped_spline(0.25)\n",
    "f_prime_clamped_interp = clamped_spline.derivative()(0.25)\n",
    "\n",
    "# Compute absolute errors\n",
    "abs_error_f_clamped = np.abs(f_true - f_clamped_interp)\n",
    "abs_error_f_prime_clamped = np.abs(f_prime_true - f_prime_clamped_interp)\n",
    "\n",
    "# Create a DataFrame for the results\n",
    "clamped_results_df = pd.DataFrame({\n",
    "    \"True Value\": [f_true, f_prime_true],\n",
    "    \"Clamped Spline Approximation\": [f_clamped_interp, f_prime_clamped_interp],\n",
    "    \"Absolute Error\": [abs_error_f_clamped, abs_error_f_prime_clamped]\n",
    "}, index=[\"f(0.25)\", \"f'(0.25)\"])\n",
    "\n",
    "clamped_results_df"
   ]
  },
  {
   "cell_type": "markdown",
   "id": "760eccfe-d5e5-40d2-b81f-9a9ddc98006c",
   "metadata": {},
   "source": []
  }
 ],
 "metadata": {
  "kernelspec": {
   "display_name": "Python 3 (ipykernel)",
   "language": "python",
   "name": "python3"
  },
  "language_info": {
   "codemirror_mode": {
    "name": "ipython",
    "version": 3
   },
   "file_extension": ".py",
   "mimetype": "text/x-python",
   "name": "python",
   "nbconvert_exporter": "python",
   "pygments_lexer": "ipython3",
   "version": "3.11.7"
  }
 },
 "nbformat": 4,
 "nbformat_minor": 5
}
